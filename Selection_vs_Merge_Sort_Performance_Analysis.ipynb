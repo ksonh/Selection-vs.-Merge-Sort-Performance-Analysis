{
  "nbformat": 4,
  "nbformat_minor": 0,
  "metadata": {
    "colab": {
      "provenance": [],
      "collapsed_sections": [
        "Yildo9vJ6g9O",
        "bcKysJSf8DZE",
        "yU8jKy1kow11"
      ],
      "authorship_tag": "ABX9TyNMO5zy3qiPaUxMBWHklknn",
      "include_colab_link": true
    },
    "kernelspec": {
      "name": "python3",
      "display_name": "Python 3"
    },
    "language_info": {
      "name": "python"
    }
  },
  "cells": [
    {
      "cell_type": "markdown",
      "metadata": {
        "id": "view-in-github",
        "colab_type": "text"
      },
      "source": [
        "<a href=\"https://colab.research.google.com/github/ksonh/Selection-vs.-Merge-Sort-Performance-Analysis/blob/main/Selection_vs_Merge_Sort_Performance_Analysis.ipynb\" target=\"_parent\"><img src=\"https://colab.research.google.com/assets/colab-badge.svg\" alt=\"Open In Colab\"/></a>"
      ]
    },
    {
      "cell_type": "markdown",
      "source": [
        "# Project Objectives"
      ],
      "metadata": {
        "id": "Yildo9vJ6g9O"
      }
    },
    {
      "cell_type": "markdown",
      "source": [
        "We set out to compare the performances of the selection sort and merge sort algorithms using different datasets. We start with a list of numbers in random order, followed by the lists in descending and ascending orders. We compare the expected time complexity of both algorithms and guage the time it takes for the algorithms to complete. Our objective was to examine whether sorting algorithms have different strengths and weaknesses based on the order of the dataset.\n",
        "\n",
        "Analysis was conducted in March of 2024."
      ],
      "metadata": {
        "id": "A85dz4MP6r5b"
      }
    },
    {
      "cell_type": "markdown",
      "source": [
        "**Assumptions**\n",
        "\n",
        "\n",
        "*   A single comparison will be one microsecond (1 comparison = 1 microsecond)\n",
        "\n"
      ],
      "metadata": {
        "id": "4TH45jbg7y19"
      }
    },
    {
      "cell_type": "markdown",
      "source": [
        "# Performance Analysis"
      ],
      "metadata": {
        "id": "bcKysJSf8DZE"
      }
    },
    {
      "cell_type": "markdown",
      "source": [
        "**Random Order Dataset**"
      ],
      "metadata": {
        "id": "Ub88RqnG8UhR"
      }
    },
    {
      "cell_type": "markdown",
      "source": [
        "1,000 integers in random order are generated. The list is sorted with the selection sort, then merge sort. The results will show which algorithm is more efficient.\n",
        "\n",
        "Selection sort:\n",
        "*   Time complexity: $O(N^2)$ in all cases\n",
        "*   Expected: $O(1,000^2)$ = 1,000,000 microseconds\n",
        "*   Actual: 0.025590\n",
        "*   Number of comparisons: 499,500\n",
        "\n",
        "Merge sort:\n",
        "*   Time complexity: $O(NlogN)$ in all cases\n",
        "*   Expected: $O((1,000)log(1,000))$ = 3,000 microseconds\n",
        "*   Actual: 0.002198\n",
        "*   Number of comparisons: 8,733\n",
        "\n",
        "Comparing Efficiency:\n",
        "*   The merge sort algorithm is more efficient overall. Selection sort requires a fairly large amount of swaps and comparisons in order to properly sort the list. Merge sort is efficient as the comparisons are made after the division of the list into subsets, so it takes less time in a random dataset. The time it would take to sort will vary for the selection sort algorithm, whereas the execution time for merge sort is consistently faster.\n",
        "\n",
        "\n",
        "\n",
        "\n",
        "\n",
        "\n",
        "\n",
        "\n",
        "\n",
        "\n",
        "\n"
      ],
      "metadata": {
        "id": "7tf19xIC8Z5N"
      }
    },
    {
      "cell_type": "markdown",
      "source": [
        "**Ascending Order Dataset**"
      ],
      "metadata": {
        "id": "bXa3V9cTA-Ky"
      }
    },
    {
      "cell_type": "markdown",
      "source": [
        "1,000 integers are generated in order from 1 to 1,000. The list is sorted as is. For that reason, the selection sort and merge sort algorithms are run to check to see if the list is sorted. Typically, sorting algorithms will sort lists that are not in order. Therefore, the use of this dataset reveals how efficient the algorithms are at verifying that the lists are sorted. The sorting algorithms are tested to observe which is more efficient.\n",
        "\n",
        "Selection sort:\n",
        "*   Time complexity: $O(\\frac{(N)(N + 1)}{2})$ = $O(N^2)$ in the best case\n",
        "*   Expected: $(\\frac{(999)(1,000)}{2})$ = 499,500 microseconds\n",
        "* Actual: 0.026649\n",
        "* Number of comparisons: 499,500\n",
        "\n",
        "Merge sort:\n",
        "*   Time complexity: $O(NlogN)$ in the best case\n",
        "*   Expected: $O((999)log(1,000))$ = 1,009 microseconds\n",
        "*   Actual: 0.002195\n",
        "*   Number of comparisons: 4,932\n",
        "\n",
        "Comparing Efficiency:\n",
        "*   The merge sort algorithm is more efficient overall. In the best case scenario where the list is already sorted, the selection sort algorithm requires several more comparisons because it searches the entire list. For that reason, 1,000 comparisons are made along with 999 additional comparisons. We can see that the merge sort algorithm will already be more efficient even in a random dataset compared to its counterpart. While the sorted dataset improves the efficiency of the selection sort algorithm significantly, it is still far slower than the merge sort algorithm.\n",
        "\n",
        "\n",
        "\n",
        "\n",
        "\n",
        "\n",
        "\n",
        "\n",
        "\n",
        "\n",
        "\n",
        "\n",
        "\n"
      ],
      "metadata": {
        "id": "rcvctFteX7qM"
      }
    },
    {
      "cell_type": "markdown",
      "source": [
        "**Descending Order Dataset:**\n",
        "\n",
        "1,000 integers are generated in order from 1,000 to 1. In general, sorting algorithms work well on lists in ascending order, so the algorithms will take more time than usual to carry out the operation. Using this dataset, the sorting algorithms are tested to determine which algorithm is more efficient.\n",
        "\n",
        "Selection sort:\n",
        "*   Time complexity: $O(N^2)$\n",
        "*   Expected: $O(1,000^2)$ = 1,000,000 microseconds\n",
        "*   Actual: 0.034438\n",
        "*   Number of comparisons: 499,500\n",
        "\n",
        "Merge sort:\n",
        "*   Time complexity: $O(NlogN)$\n",
        "*   Expected: $O((1,000)log(1,000))$ = 3,000 microseconds\n",
        "*   Actual: 0.002190\n",
        "*   Number of comparisons: 5,044\n",
        "\n",
        "Comparing Efficiency:\n",
        "*   The merge sort algorithm is more efficient overall. It is worth mentioning the reversely sorted dataset tends toward the worst case scenario for most sorting algorithms. In these instances, the sorting algorithms will continue to default to its sorting protocol despite the order of the list. For this reason, the reverse dataset will be more efficently sorted when the merge sort algorithm is applied."
      ],
      "metadata": {
        "id": "JnLOxkQgbzVN"
      }
    },
    {
      "cell_type": "markdown",
      "source": [
        "# Full Implementation"
      ],
      "metadata": {
        "id": "yU8jKy1kow11"
      }
    },
    {
      "cell_type": "code",
      "source": [
        "import time\n",
        "import random\n",
        "\n",
        "def main():\n",
        "    printSortingMetrics(\"random\")\n",
        "    printSortingMetrics(\"descending\")\n",
        "    printSortingMetrics(\"ascending\")\n",
        "\n",
        "def generateDataset(order=\"ascending\"):\n",
        "      numbers = list(range(1, 1001))\n",
        "      if order == \"random\":\n",
        "          random.shuffle(numbers)\n",
        "      elif order == \"descending\":\n",
        "          numbers.reverse()\n",
        "      return numbers\n",
        "\n",
        "def selectionSort(numbers):\n",
        "      comparisons = 0\n",
        "      for i in range(len(numbers) - 1):\n",
        "          index_smallest = i\n",
        "          for j in range(i + 1, len(numbers)):\n",
        "              comparisons += 1\n",
        "              if numbers[j] < numbers[index_smallest]:\n",
        "                  index_smallest = j\n",
        "\n",
        "          temp = numbers[i]\n",
        "          numbers[i] = numbers[index_smallest]\n",
        "          numbers[index_smallest] = temp\n",
        "\n",
        "      return numbers, comparisons\n",
        "\n",
        "def merge_sort(numbers, i, k):\n",
        "      j = 0\n",
        "\n",
        "      if i < k:\n",
        "          j = (i + k) // 2 # Find the midpoint in the partition\n",
        "\n",
        "          # Recursively sort left and right partitions\n",
        "          left_comparisons, left_partition = merge_sort(numbers, i, j)\n",
        "          right_comparisons, right_partition = merge_sort(numbers, j + 1, k)\n",
        "\n",
        "          # Merge left and right partitions in sorted order\n",
        "          comparisons_merge, sorted_copy = merge(numbers, i, j, k)\n",
        "\n",
        "          totalComparisons = left_comparisons + right_comparisons + comparisons_merge\n",
        "\n",
        "          return totalComparisons, sorted_copy\n",
        "      else:\n",
        "          return 0, numbers[i:k+1]\n",
        "\n",
        "def merge(numbers, i, j, k):\n",
        "      merged_size = k - i + 1 # Size of merged partition\n",
        "      merged_numbers = [0] * merged_size\n",
        "      merge_pos = 0 # Position to insert merged number\n",
        "      left_pos = i # Initialize left partition position\n",
        "      right_pos = j + 1 # Initialize right partition position\n",
        "      comparisons = 0\n",
        "\n",
        "      # Adds smallest element from left or right partition to merged numbers\n",
        "      while left_pos <= j and right_pos <= k:\n",
        "          comparisons += 1\n",
        "          if numbers[left_pos] <= numbers[right_pos]:\n",
        "              merged_numbers[merge_pos] = numbers[left_pos]\n",
        "              left_pos += 1\n",
        "          else:\n",
        "              merged_numbers[merge_pos] = numbers[right_pos]\n",
        "              right_pos += 1\n",
        "          merge_pos += 1\n",
        "\n",
        "      # If left partition is not empty, add remaining elements to merged numbers\n",
        "      while left_pos <= j:\n",
        "          merged_numbers[merge_pos] = numbers[left_pos]\n",
        "          left_pos += 1\n",
        "          merge_pos += 1\n",
        "\n",
        "      # If right partition is not empty, add remaining elements to merged numbers\n",
        "      while right_pos <= k:\n",
        "          merged_numbers[merge_pos] = numbers[right_pos]\n",
        "          right_pos += 1\n",
        "          merge_pos += 1\n",
        "\n",
        "      # Copy merged numbers back to the original array\n",
        "      for merge_pos in range(merged_size):\n",
        "          numbers[i + merge_pos] = merged_numbers[merge_pos]\n",
        "\n",
        "      return comparisons, merged_numbers\n",
        "\n",
        "def printSortingMetrics(order):\n",
        "      testDataset = generateDataset(order)\n",
        "\n",
        "      start_time = time.time()\n",
        "      mergeSortComparisons, mergeSortList = merge_sort(testDataset.copy(), 0, len(testDataset) - 1)\n",
        "      merge_execution_time = time.time() - start_time\n",
        "\n",
        "      start_time = time.time()\n",
        "      selectionSortList, selectionSortComparisons = selectionSort(testDataset.copy())\n",
        "      selection_execution_time = time.time() - start_time\n",
        "\n",
        "      print(\"Sorting Metrics for\", order, \"dataset:\")\n",
        "      print(\"{:<15} {:<15} {:<20} {:<20}\".format(\"Algorithm\", \"Dataset Order\", \"Number of Comparisons\", \"Execution Time\"))\n",
        "      print(\"{:<15} {:<15} {:<20} {:.6f}\".format(\"Merge Sort\", order, mergeSortComparisons, merge_execution_time))\n",
        "      print(\"{:<15} {:<15} {:<20} {:.6f}\".format(\"Selection Sort\", order, selectionSortComparisons, selection_execution_time))\n",
        "      print()\n",
        "\n",
        "      print(\"First 50 elements of original dataset:\")\n",
        "      print(testDataset[:50])\n",
        "      print(\"First 50 elements of Merge Sorted list:\")\n",
        "      print(mergeSortList[:50])\n",
        "      print(\"First 50 elements of Selection Sorted list:\")\n",
        "      print(selectionSortList[:50])\n",
        "\n",
        "if __name__ == \"__main__\":\n",
        "    main()\n"
      ],
      "metadata": {
        "colab": {
          "base_uri": "https://localhost:8080/"
        },
        "id": "WD_VEvXtBIH8",
        "outputId": "bd854adc-8af3-47bd-ad4a-f19331e29dec"
      },
      "execution_count": 6,
      "outputs": [
        {
          "output_type": "stream",
          "name": "stdout",
          "text": [
            "Sorting Metrics for random dataset:\n",
            "Algorithm       Dataset Order   Number of Comparisons Execution Time      \n",
            "Merge Sort      random          8709                 0.004684\n",
            "Selection Sort  random          499500               0.062081\n",
            "\n",
            "First 50 elements of original dataset:\n",
            "[110, 672, 654, 467, 347, 865, 779, 814, 741, 720, 97, 770, 236, 681, 101, 776, 235, 727, 976, 911, 197, 115, 323, 972, 370, 892, 333, 869, 458, 96, 744, 607, 721, 4, 622, 232, 102, 121, 906, 532, 804, 596, 989, 296, 464, 657, 430, 3, 383, 548]\n",
            "First 50 elements of Merge Sorted list:\n",
            "[1, 2, 3, 4, 5, 6, 7, 8, 9, 10, 11, 12, 13, 14, 15, 16, 17, 18, 19, 20, 21, 22, 23, 24, 25, 26, 27, 28, 29, 30, 31, 32, 33, 34, 35, 36, 37, 38, 39, 40, 41, 42, 43, 44, 45, 46, 47, 48, 49, 50]\n",
            "First 50 elements of Selection Sorted list:\n",
            "[1, 2, 3, 4, 5, 6, 7, 8, 9, 10, 11, 12, 13, 14, 15, 16, 17, 18, 19, 20, 21, 22, 23, 24, 25, 26, 27, 28, 29, 30, 31, 32, 33, 34, 35, 36, 37, 38, 39, 40, 41, 42, 43, 44, 45, 46, 47, 48, 49, 50]\n",
            "Sorting Metrics for descending dataset:\n",
            "Algorithm       Dataset Order   Number of Comparisons Execution Time      \n",
            "Merge Sort      descending      4932                 0.003938\n",
            "Selection Sort  descending      499500               0.064542\n",
            "\n",
            "First 50 elements of original dataset:\n",
            "[1000, 999, 998, 997, 996, 995, 994, 993, 992, 991, 990, 989, 988, 987, 986, 985, 984, 983, 982, 981, 980, 979, 978, 977, 976, 975, 974, 973, 972, 971, 970, 969, 968, 967, 966, 965, 964, 963, 962, 961, 960, 959, 958, 957, 956, 955, 954, 953, 952, 951]\n",
            "First 50 elements of Merge Sorted list:\n",
            "[1, 2, 3, 4, 5, 6, 7, 8, 9, 10, 11, 12, 13, 14, 15, 16, 17, 18, 19, 20, 21, 22, 23, 24, 25, 26, 27, 28, 29, 30, 31, 32, 33, 34, 35, 36, 37, 38, 39, 40, 41, 42, 43, 44, 45, 46, 47, 48, 49, 50]\n",
            "First 50 elements of Selection Sorted list:\n",
            "[1, 2, 3, 4, 5, 6, 7, 8, 9, 10, 11, 12, 13, 14, 15, 16, 17, 18, 19, 20, 21, 22, 23, 24, 25, 26, 27, 28, 29, 30, 31, 32, 33, 34, 35, 36, 37, 38, 39, 40, 41, 42, 43, 44, 45, 46, 47, 48, 49, 50]\n",
            "Sorting Metrics for ascending dataset:\n",
            "Algorithm       Dataset Order   Number of Comparisons Execution Time      \n",
            "Merge Sort      ascending       5044                 0.003988\n",
            "Selection Sort  ascending       499500               0.073854\n",
            "\n",
            "First 50 elements of original dataset:\n",
            "[1, 2, 3, 4, 5, 6, 7, 8, 9, 10, 11, 12, 13, 14, 15, 16, 17, 18, 19, 20, 21, 22, 23, 24, 25, 26, 27, 28, 29, 30, 31, 32, 33, 34, 35, 36, 37, 38, 39, 40, 41, 42, 43, 44, 45, 46, 47, 48, 49, 50]\n",
            "First 50 elements of Merge Sorted list:\n",
            "[1, 2, 3, 4, 5, 6, 7, 8, 9, 10, 11, 12, 13, 14, 15, 16, 17, 18, 19, 20, 21, 22, 23, 24, 25, 26, 27, 28, 29, 30, 31, 32, 33, 34, 35, 36, 37, 38, 39, 40, 41, 42, 43, 44, 45, 46, 47, 48, 49, 50]\n",
            "First 50 elements of Selection Sorted list:\n",
            "[1, 2, 3, 4, 5, 6, 7, 8, 9, 10, 11, 12, 13, 14, 15, 16, 17, 18, 19, 20, 21, 22, 23, 24, 25, 26, 27, 28, 29, 30, 31, 32, 33, 34, 35, 36, 37, 38, 39, 40, 41, 42, 43, 44, 45, 46, 47, 48, 49, 50]\n"
          ]
        }
      ]
    },
    {
      "cell_type": "markdown",
      "source": [
        "# Conclusion"
      ],
      "metadata": {
        "id": "4cgCql6ko_SB"
      }
    },
    {
      "cell_type": "markdown",
      "source": [
        "The merge sort algorithm was more time- and resource-efficient than the selection sort algorithm in all cases. This was illustrated using various datasets which tested the algorithms' adaptability from their default behavior. In every practical case, it was better to use the merge sort algorithm to sort the list. The only case where the selection sort algorithm would be preferable is with a list that had very few elements because the merge sort algorithm would have to divide the list before making logical comparisons. Another disadvantage with selection sort is its tendency to make the same number of comparisons regardless of the order. By contrast, the merge sort algorithm only makes a high number of comparisons with a randomly-ordered dataset."
      ],
      "metadata": {
        "id": "IFeAA4PPpCHk"
      }
    }
  ]
}